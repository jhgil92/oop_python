{
  "nbformat": 4,
  "nbformat_minor": 0,
  "metadata": {
    "colab": {
      "name": "1. 객체지향 프로그래밍(Object Oriented Programming)",
      "version": "0.3.2",
      "provenance": [],
      "include_colab_link": true
    },
    "kernelspec": {
      "name": "python3",
      "display_name": "Python 3"
    }
  },
  "cells": [
    {
      "cell_type": "markdown",
      "metadata": {
        "id": "view-in-github",
        "colab_type": "text"
      },
      "source": [
        "<a href=\"https://colab.research.google.com/github/jhgil92/oop_python/blob/master/1_%EA%B0%9D%EC%B2%B4%EC%A7%80%ED%96%A5_%ED%94%84%EB%A1%9C%EA%B7%B8%EB%9E%98%EB%B0%8D(Object_Oriented_Programming).ipynb\" target=\"_parent\"><img src=\"https://colab.research.google.com/assets/colab-badge.svg\" alt=\"Open In Colab\"/></a>"
      ]
    },
    {
      "cell_type": "markdown",
      "metadata": {
        "id": "mAVHO74wBx8T",
        "colab_type": "text"
      },
      "source": [
        "## 절차지향과 객체지향 프로그래밍"
      ]
    },
    {
      "cell_type": "markdown",
      "metadata": {
        "id": "gS6Cb7ekAX08",
        "colab_type": "text"
      },
      "source": [
        "* 절차지향 프로그래밍\n",
        "> * 1990년대 이전 언어는 대부분 절차지향 프로그래밍\n",
        ">>* 대표적인 언어 : 파스칼, 코볼, 포트란, C 등\n",
        ">* ex : 냉장고에 코끼리를 넣는다.\n",
        ">>* 1. 냉장고에 코끼리를 넣는다 -> open 냉장고\n",
        ">>* 2. 코끼리를 냉장고에 넣는다 -> inser 코끼리 into 냉장ㅈ고\n",
        ">>* 3. 냉장고 문을 닫는다 -> close 냉장고\n",
        "\n",
        "\n",
        "\n"
      ]
    },
    {
      "cell_type": "code",
      "metadata": {
        "id": "oUGa5DLqAMuy",
        "colab_type": "code",
        "colab": {
          "base_uri": "https://localhost:8080/",
          "height": 35
        },
        "outputId": "6eae659c-d0c5-4509-8f7e-f50167874e3a"
      },
      "source": [
        "data = 1\n",
        "print(data)"
      ],
      "execution_count": 1,
      "outputs": [
        {
          "output_type": "stream",
          "text": [
            "1\n"
          ],
          "name": "stdout"
        }
      ]
    },
    {
      "cell_type": "markdown",
      "metadata": {
        "id": "C96lGevJBb5n",
        "colab_type": "text"
      },
      "source": [
        "* 객체지향 프로그래밍\n",
        ">* 객체(object) 단위로 데이터와 기능(함수)를 하나로 묶어서 쓰는 언어\n",
        "\n",
        "\n",
        "![대체 텍스트](https://www.fun-coding.org/00_Images/oop.png)"
      ]
    },
    {
      "cell_type": "markdown",
      "metadata": {
        "id": "VHGLM2JmB6sW",
        "colab_type": "text"
      },
      "source": [
        "## 객체지향 프로그래밍 핵심 (class와 object)\n",
        "\n",
        "class란? == 예) 자동차 설계도\n",
        "* 속성 (attribute)와 동작(method)을 갖는 데이터 타입\n",
        "*속성(attribute)은 변수와 유사\n",
        "*동작(method)는 함수와 유사\n",
        "![대체 텍스트](https://www.fun-coding.org/00_Images/oop2.png)"
      ]
    },
    {
      "cell_type": "markdown",
      "metadata": {
        "id": "GBuyj6vrCPyx",
        "colab_type": "text"
      },
      "source": [
        "## 정리 : class(설계도), object(객체), attribute(변수), method(함수)\n",
        "\n",
        "object란? == 예) 실제 각 자동차\n",
        "* 선언된 클래스를 기반으로 만들어진 실체 (객체 - object 또는 인스턴스 - instance)\n",
        "* 하나의 클래스 설계도를 기반으로 수많은 객체 생성이 가능\n",
        "\n",
        "객체지향 프로그램 작성 방법\n",
        "1. 클래스 설계 (attribute와 method 구성)\n",
        "2. 설계한 클래스를 기반으로 클래스를 코드로 작성\n",
        "3. 클래스를 기반으로 필요한 객체 생성\n",
        "4. 해당 객체의 attribute와 method를 조작하여 프로그램 수행"
      ]
    }
  ]
}